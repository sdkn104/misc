{
 "cells": [
  {
   "cell_type": "code",
   "execution_count": 1,
   "id": "7ef04691-e7ab-4978-accc-decac5a49c84",
   "metadata": {},
   "outputs": [
    {
     "data": {
      "text/plain": [
       "'2025-09-04'"
      ]
     },
     "execution_count": 1,
     "metadata": {},
     "output_type": "execute_result"
    }
   ],
   "source": [
    "from datetime import datetime\n",
    "\n",
    "# 今日の日付を取得\n",
    "\n",
    "today = datetime.today()\n",
    "today.strftime('%Y-%m-%d')  # 年-月-日形式で表示"
   ]
  },
  {
   "cell_type": "code",
   "execution_count": null,
   "id": "20162c33-674b-4ecb-ac14-ac4aa69b95c0",
   "metadata": {},
   "outputs": [],
   "source": []
  },
  {
   "cell_type": "code",
   "execution_count": 2,
   "id": "836010c1-eff8-49a5-89e4-d5f9de864bca",
   "metadata": {},
   "outputs": [
    {
     "data": {
      "text/plain": [
       "'2025-09-04'"
      ]
     },
     "execution_count": 2,
     "metadata": {},
     "output_type": "execute_result"
    }
   ],
   "source": [
    "from datetime import datetime\n",
    "\n",
    "# 今日の日付を取得\n",
    "today = datetime.today()\n",
    "today.strftime('%Y-%m-%d')  # 年-月-日形式で表示"
   ]
  },
  {
   "cell_type": "code",
   "execution_count": null,
   "id": "8da3fd76-2a49-4b5b-8880-b9fdc2e84b95",
   "metadata": {},
   "outputs": [],
   "source": []
  },
  {
   "cell_type": "code",
   "execution_count": 3,
   "id": "0ac6a006-753c-4993-8099-55b164c61f8a",
   "metadata": {},
   "outputs": [
    {
     "name": "stdout",
     "output_type": "stream",
     "text": [
      ".ipynb_checkpoints\n",
      "california_housing.csv\n",
      "chat_history-2025-08-02-17-08-07.md\n",
      "langchain1.ipynb\n",
      "langchain2.ipynb\n",
      "langchain_agent.ipynb\n",
      "myenv\n",
      "myenv.ps1\n",
      "my_package\n",
      "net_info_no11_11.pdf\n",
      "nke-10k-2023.pdf\n",
      "openai_sample.py\n",
      "python.ver.txt\n",
      "README.md\n",
      "requirements.txt\n",
      "Untitled.ipynb\n",
      "untitled.md\n",
      "untitled.py\n",
      "Untitled1.ipynb\n",
      "untitled1.md\n",
      "Untitled2.ipynb\n",
      "Untitled3.ipynb\n"
     ]
    }
   ],
   "source": [
    "import os\n",
    "\n",
    "# 現在のフォルダ内のファイルとフォルダを取得\n",
    "files_and_folders = os.listdir('.')\n",
    "\n",
    "# 結果を表示\n",
    "for item in files_and_folders:\n",
    "    print(item)"
   ]
  },
  {
   "cell_type": "code",
   "execution_count": null,
   "id": "178e296c-d56d-429c-b89d-8ca269207fab",
   "metadata": {},
   "outputs": [],
   "source": []
  },
  {
   "cell_type": "code",
   "execution_count": 4,
   "id": "459d077f-a6b2-4879-8c4d-c436e95afe8a",
   "metadata": {},
   "outputs": [
    {
     "data": {
      "text/plain": [
       "[]"
      ]
     },
     "execution_count": 4,
     "metadata": {},
     "output_type": "execute_result"
    }
   ],
   "source": [
    "import os\n",
    "\n",
    "# 検索対象のフォルダを指定\n",
    "target_folder = './'  # 必要に応じてフォルダパスを変更してください\n",
    "\n",
    "# 「明細」を含むファイルを格納するリスト\n",
    "files_with_meisai = []\n",
    "\n",
    "# 再帰的にフォルダを探索\n",
    "for root, dirs, files in os.walk(target_folder):\n",
    "    for file in files:\n",
    "        if '明細' in file:  # ファイル名に「明細」を含むかチェック\n",
    "            # フルパスを取得してリストに追加\n",
    "            files_with_meisai.append(os.path.join(root, file))\n",
    "\n",
    "# 結果を確認\n",
    "files_with_meisai"
   ]
  },
  {
   "cell_type": "code",
   "execution_count": null,
   "id": "5ad5895b-8fe5-42fb-ab36-1a5681020fc7",
   "metadata": {},
   "outputs": [],
   "source": []
  },
  {
   "cell_type": "code",
   "execution_count": 5,
   "id": "4c74fdac-da95-4d70-a707-6359624a8e16",
   "metadata": {},
   "outputs": [
    {
     "data": {
      "text/plain": [
       "['\\\\\\\\mei660\\\\hin\\\\Hin_Common\\\\02_社外秘_共通ファイル\\\\02_費用\\\\02_部門費\\\\5：予算管理表【品証部】\\\\2025年度\\\\4月分\\\\B02P02DE01_部門費実績(明細表).xlsx',\n",
       " '\\\\\\\\mei660\\\\hin\\\\Hin_Common\\\\02_社外秘_共通ファイル\\\\02_費用\\\\02_部門費\\\\5：予算管理表【品証部】\\\\2025年度\\\\5月分\\\\B02P02DE01_部門費実績(明細表).xlsx',\n",
       " '\\\\\\\\mei660\\\\hin\\\\Hin_Common\\\\02_社外秘_共通ファイル\\\\02_費用\\\\02_部門費\\\\5：予算管理表【品証部】\\\\2025年度\\\\6月分\\\\B02P02DE01_部門費実績(明細表).xlsx',\n",
       " '\\\\\\\\mei660\\\\hin\\\\Hin_Common\\\\02_社外秘_共通ファイル\\\\02_費用\\\\02_部門費\\\\5：予算管理表【品証部】\\\\2025年度\\\\7月分\\\\B02P02DE01_部門費実績(明細表).xlsx']"
      ]
     },
     "execution_count": 5,
     "metadata": {},
     "output_type": "execute_result"
    }
   ],
   "source": [
    "import os\n",
    "\n",
    "# 検索対象のフォルダを指定\n",
    "target_folder = r'\\\\mei660\\hin\\Hin_Common\\02_社外秘_共通ファイル\\02_費用\\02_部門費\\5：予算管理表【品証部】\\2025年度'\n",
    "\n",
    "# 「明細」を含むファイルを格納するリスト\n",
    "files_with_meisai = []\n",
    "\n",
    "# 再帰的にフォルダを探索\n",
    "for root, dirs, files in os.walk(target_folder):\n",
    "    for file in files:\n",
    "        if '明細' in file:  # ファイル名に「明細」を含むかチェック\n",
    "            # フルパスを取得してリストに追加\n",
    "            files_with_meisai.append(os.path.join(root, file))\n",
    "\n",
    "# 結果を確認\n",
    "files_with_meisai"
   ]
  },
  {
   "cell_type": "code",
   "execution_count": 9,
   "id": "b9f1e419-28dc-4e5e-a9dc-d3f67687d676",
   "metadata": {},
   "outputs": [
    {
     "name": "stdout",
     "output_type": "stream",
     "text": [
      "エラーが発生しました: \\\\mei660\\hin\\Hin_Common\\02_社外秘_共通ファイル\\02_費用\\02_部門費\\5：予算管理表【品証部】\\2025年度\\4月分\\B02P02DE01_部門費実績(明細表).xlsx - Missing optional dependency 'openpyxl'.  Use pip or conda to install openpyxl.\n",
      "エラーが発生しました: \\\\mei660\\hin\\Hin_Common\\02_社外秘_共通ファイル\\02_費用\\02_部門費\\5：予算管理表【品証部】\\2025年度\\5月分\\B02P02DE01_部門費実績(明細表).xlsx - Missing optional dependency 'openpyxl'.  Use pip or conda to install openpyxl.\n",
      "エラーが発生しました: \\\\mei660\\hin\\Hin_Common\\02_社外秘_共通ファイル\\02_費用\\02_部門費\\5：予算管理表【品証部】\\2025年度\\6月分\\B02P02DE01_部門費実績(明細表).xlsx - Missing optional dependency 'openpyxl'.  Use pip or conda to install openpyxl.\n",
      "エラーが発生しました: \\\\mei660\\hin\\Hin_Common\\02_社外秘_共通ファイル\\02_費用\\02_部門費\\5：予算管理表【品証部】\\2025年度\\7月分\\B02P02DE01_部門費実績(明細表).xlsx - Missing optional dependency 'openpyxl'.  Use pip or conda to install openpyxl.\n"
     ]
    },
    {
     "ename": "ValueError",
     "evalue": "No objects to concatenate",
     "output_type": "error",
     "traceback": [
      "\u001b[31m---------------------------------------------------------------------------\u001b[39m",
      "\u001b[31mValueError\u001b[39m                                Traceback (most recent call last)",
      "\u001b[36mCell\u001b[39m\u001b[36m \u001b[39m\u001b[32mIn[9]\u001b[39m\u001b[32m, line 21\u001b[39m\n\u001b[32m     18\u001b[39m         \u001b[38;5;28mprint\u001b[39m(\u001b[33mf\u001b[39m\u001b[33m\"\u001b[39m\u001b[33mエラーが発生しました: \u001b[39m\u001b[38;5;132;01m{\u001b[39;00mfile\u001b[38;5;132;01m}\u001b[39;00m\u001b[33m - \u001b[39m\u001b[38;5;132;01m{\u001b[39;00me\u001b[38;5;132;01m}\u001b[39;00m\u001b[33m\"\u001b[39m)\n\u001b[32m     20\u001b[39m \u001b[38;5;66;03m# リスト内のすべてのデータフレームを縦に連結\u001b[39;00m\n\u001b[32m---> \u001b[39m\u001b[32m21\u001b[39m df = \u001b[43mpd\u001b[49m\u001b[43m.\u001b[49m\u001b[43mconcat\u001b[49m\u001b[43m(\u001b[49m\u001b[43mall_data\u001b[49m\u001b[43m,\u001b[49m\u001b[43m \u001b[49m\u001b[43mignore_index\u001b[49m\u001b[43m=\u001b[49m\u001b[38;5;28;43;01mTrue\u001b[39;49;00m\u001b[43m)\u001b[49m\n\u001b[32m     23\u001b[39m \u001b[38;5;66;03m# 結果を確認\u001b[39;00m\n\u001b[32m     24\u001b[39m df\n",
      "\u001b[36mFile \u001b[39m\u001b[32m~\\NoSync\\misc\\Comp\\jupyter\\myenv\\Lib\\site-packages\\pandas\\core\\reshape\\concat.py:382\u001b[39m, in \u001b[36mconcat\u001b[39m\u001b[34m(objs, axis, join, ignore_index, keys, levels, names, verify_integrity, sort, copy)\u001b[39m\n\u001b[32m    379\u001b[39m \u001b[38;5;28;01melif\u001b[39;00m copy \u001b[38;5;129;01mand\u001b[39;00m using_copy_on_write():\n\u001b[32m    380\u001b[39m     copy = \u001b[38;5;28;01mFalse\u001b[39;00m\n\u001b[32m--> \u001b[39m\u001b[32m382\u001b[39m op = \u001b[43m_Concatenator\u001b[49m\u001b[43m(\u001b[49m\n\u001b[32m    383\u001b[39m \u001b[43m    \u001b[49m\u001b[43mobjs\u001b[49m\u001b[43m,\u001b[49m\n\u001b[32m    384\u001b[39m \u001b[43m    \u001b[49m\u001b[43maxis\u001b[49m\u001b[43m=\u001b[49m\u001b[43maxis\u001b[49m\u001b[43m,\u001b[49m\n\u001b[32m    385\u001b[39m \u001b[43m    \u001b[49m\u001b[43mignore_index\u001b[49m\u001b[43m=\u001b[49m\u001b[43mignore_index\u001b[49m\u001b[43m,\u001b[49m\n\u001b[32m    386\u001b[39m \u001b[43m    \u001b[49m\u001b[43mjoin\u001b[49m\u001b[43m=\u001b[49m\u001b[43mjoin\u001b[49m\u001b[43m,\u001b[49m\n\u001b[32m    387\u001b[39m \u001b[43m    \u001b[49m\u001b[43mkeys\u001b[49m\u001b[43m=\u001b[49m\u001b[43mkeys\u001b[49m\u001b[43m,\u001b[49m\n\u001b[32m    388\u001b[39m \u001b[43m    \u001b[49m\u001b[43mlevels\u001b[49m\u001b[43m=\u001b[49m\u001b[43mlevels\u001b[49m\u001b[43m,\u001b[49m\n\u001b[32m    389\u001b[39m \u001b[43m    \u001b[49m\u001b[43mnames\u001b[49m\u001b[43m=\u001b[49m\u001b[43mnames\u001b[49m\u001b[43m,\u001b[49m\n\u001b[32m    390\u001b[39m \u001b[43m    \u001b[49m\u001b[43mverify_integrity\u001b[49m\u001b[43m=\u001b[49m\u001b[43mverify_integrity\u001b[49m\u001b[43m,\u001b[49m\n\u001b[32m    391\u001b[39m \u001b[43m    \u001b[49m\u001b[43mcopy\u001b[49m\u001b[43m=\u001b[49m\u001b[43mcopy\u001b[49m\u001b[43m,\u001b[49m\n\u001b[32m    392\u001b[39m \u001b[43m    \u001b[49m\u001b[43msort\u001b[49m\u001b[43m=\u001b[49m\u001b[43msort\u001b[49m\u001b[43m,\u001b[49m\n\u001b[32m    393\u001b[39m \u001b[43m\u001b[49m\u001b[43m)\u001b[49m\n\u001b[32m    395\u001b[39m \u001b[38;5;28;01mreturn\u001b[39;00m op.get_result()\n",
      "\u001b[36mFile \u001b[39m\u001b[32m~\\NoSync\\misc\\Comp\\jupyter\\myenv\\Lib\\site-packages\\pandas\\core\\reshape\\concat.py:445\u001b[39m, in \u001b[36m_Concatenator.__init__\u001b[39m\u001b[34m(self, objs, axis, join, keys, levels, names, ignore_index, verify_integrity, copy, sort)\u001b[39m\n\u001b[32m    442\u001b[39m \u001b[38;5;28mself\u001b[39m.verify_integrity = verify_integrity\n\u001b[32m    443\u001b[39m \u001b[38;5;28mself\u001b[39m.copy = copy\n\u001b[32m--> \u001b[39m\u001b[32m445\u001b[39m objs, keys = \u001b[38;5;28;43mself\u001b[39;49m\u001b[43m.\u001b[49m\u001b[43m_clean_keys_and_objs\u001b[49m\u001b[43m(\u001b[49m\u001b[43mobjs\u001b[49m\u001b[43m,\u001b[49m\u001b[43m \u001b[49m\u001b[43mkeys\u001b[49m\u001b[43m)\u001b[49m\n\u001b[32m    447\u001b[39m \u001b[38;5;66;03m# figure out what our result ndim is going to be\u001b[39;00m\n\u001b[32m    448\u001b[39m ndims = \u001b[38;5;28mself\u001b[39m._get_ndims(objs)\n",
      "\u001b[36mFile \u001b[39m\u001b[32m~\\NoSync\\misc\\Comp\\jupyter\\myenv\\Lib\\site-packages\\pandas\\core\\reshape\\concat.py:507\u001b[39m, in \u001b[36m_Concatenator._clean_keys_and_objs\u001b[39m\u001b[34m(self, objs, keys)\u001b[39m\n\u001b[32m    504\u001b[39m     objs_list = \u001b[38;5;28mlist\u001b[39m(objs)\n\u001b[32m    506\u001b[39m \u001b[38;5;28;01mif\u001b[39;00m \u001b[38;5;28mlen\u001b[39m(objs_list) == \u001b[32m0\u001b[39m:\n\u001b[32m--> \u001b[39m\u001b[32m507\u001b[39m     \u001b[38;5;28;01mraise\u001b[39;00m \u001b[38;5;167;01mValueError\u001b[39;00m(\u001b[33m\"\u001b[39m\u001b[33mNo objects to concatenate\u001b[39m\u001b[33m\"\u001b[39m)\n\u001b[32m    509\u001b[39m \u001b[38;5;28;01mif\u001b[39;00m keys \u001b[38;5;129;01mis\u001b[39;00m \u001b[38;5;28;01mNone\u001b[39;00m:\n\u001b[32m    510\u001b[39m     objs_list = \u001b[38;5;28mlist\u001b[39m(com.not_none(*objs_list))\n",
      "\u001b[31mValueError\u001b[39m: No objects to concatenate"
     ]
    }
   ],
   "source": [
    "import pandas as pd\n",
    "\n",
    "# 連結結果を格納するリスト\n",
    "all_data = []\n",
    "\n",
    "# files_with_meisai に格納されたファイルを処理\n",
    "for file in files_with_meisai:\n",
    "    try:\n",
    "        # Excelファイル内のすべてのシートを読み込む\n",
    "        sheets = pd.read_excel(file, sheet_name=None)  # sheet_name=Noneで全シートを辞書として取得\n",
    "        \n",
    "        # 各シートをデータフレームとしてリストに追加\n",
    "        for sheet_name, sheet_data in sheets.items():\n",
    "            sheet_data['ファイル名'] = file  # 元のファイル名を列として追加（オプション）\n",
    "            sheet_data['シート名'] = sheet_name  # 元のシート名を列として追加（オプション）\n",
    "            all_data.append(sheet_data)\n",
    "    except Exception as e:\n",
    "        print(f\"エラーが発生しました: {file} - {e}\")\n",
    "\n",
    "# リスト内のすべてのデータフレームを縦に連結\n",
    "df = pd.concat(all_data, ignore_index=True)\n",
    "\n",
    "# 結果を確認\n",
    "df"
   ]
  },
  {
   "cell_type": "code",
   "execution_count": 10,
   "id": "54547a17-1955-4e78-a486-9a921b3185f7",
   "metadata": {},
   "outputs": [
    {
     "ename": "SyntaxError",
     "evalue": "Missing parentheses in call to 'print'. Did you mean print(...)? (1588640456.py, line 1)",
     "output_type": "error",
     "traceback": [
      "  \u001b[36mCell\u001b[39m\u001b[36m \u001b[39m\u001b[32mIn[10]\u001b[39m\u001b[32m, line 1\u001b[39m\n\u001b[31m    \u001b[39m\u001b[31mprint all_data\u001b[39m\n    ^\n\u001b[31mSyntaxError\u001b[39m\u001b[31m:\u001b[39m Missing parentheses in call to 'print'. Did you mean print(...)?\n"
     ]
    }
   ],
   "source": [
    "print all_data"
   ]
  },
  {
   "cell_type": "code",
   "execution_count": 11,
   "id": "47dbdad9-56ac-42e0-8eaf-2d52f248147f",
   "metadata": {},
   "outputs": [
    {
     "name": "stdout",
     "output_type": "stream",
     "text": [
      "[]\n"
     ]
    }
   ],
   "source": [
    "print(all_data);"
   ]
  },
  {
   "cell_type": "code",
   "execution_count": 12,
   "id": "14d737ed-3d2a-4005-b5fc-922f82383fe6",
   "metadata": {},
   "outputs": [
    {
     "data": {
      "text/plain": [
       "[]"
      ]
     },
     "execution_count": 12,
     "metadata": {},
     "output_type": "execute_result"
    }
   ],
   "source": [
    "all_data"
   ]
  },
  {
   "cell_type": "code",
   "execution_count": null,
   "id": "40fa3b6d-c5b6-4339-81dc-d94f91cc768f",
   "metadata": {},
   "outputs": [],
   "source": []
  }
 ],
 "metadata": {
  "kernelspec": {
   "display_name": "Python 3 (ipykernel)",
   "language": "python",
   "name": "python3"
  },
  "language_info": {
   "codemirror_mode": {
    "name": "ipython",
    "version": 3
   },
   "file_extension": ".py",
   "mimetype": "text/x-python",
   "name": "python",
   "nbconvert_exporter": "python",
   "pygments_lexer": "ipython3",
   "version": "3.12.8"
  }
 },
 "nbformat": 4,
 "nbformat_minor": 5
}
