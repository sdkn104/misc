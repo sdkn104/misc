{
 "cells": [
  {
   "cell_type": "code",
   "execution_count": 2,
   "id": "50238965-272d-4210-a61e-2d56205b1a3a",
   "metadata": {},
   "outputs": [],
   "source": [
    "from interpreter import interpreter"
   ]
  },
  {
   "cell_type": "code",
   "execution_count": 4,
   "id": "9a399053-0480-41db-adaa-295011509e69",
   "metadata": {},
   "outputs": [
    {
     "data": {
      "text/html": [
       "<pre style=\"white-space:pre;overflow-x:auto;line-height:normal;font-family:Menlo,'DejaVu Sans Mono',consolas,'Courier New',monospace\"><span style=\"font-weight: bold\">Open Interpreter</span> will require approval before running code.                                                        \n",
       "</pre>\n"
      ],
      "text/plain": [
       "\u001b[1mOpen Interpreter\u001b[0m will require approval before running code.                                                        \n"
      ]
     },
     "metadata": {},
     "output_type": "display_data"
    },
    {
     "name": "stdout",
     "output_type": "stream",
     "text": [
      "\n"
     ]
    },
    {
     "data": {
      "text/html": [
       "<pre style=\"white-space:pre;overflow-x:auto;line-height:normal;font-family:Menlo,'DejaVu Sans Mono',consolas,'Courier New',monospace\">Use <span style=\"color: #008080; text-decoration-color: #008080; background-color: #000000; font-weight: bold\">interpreter -y</span> to bypass this.                                                                                 \n",
       "</pre>\n"
      ],
      "text/plain": [
       "Use \u001b[1;36;40minterpreter -y\u001b[0m to bypass this.                                                                                 \n"
      ]
     },
     "metadata": {},
     "output_type": "display_data"
    },
    {
     "name": "stdout",
     "output_type": "stream",
     "text": [
      "\n"
     ]
    },
    {
     "data": {
      "text/html": [
       "<pre style=\"white-space:pre;overflow-x:auto;line-height:normal;font-family:Menlo,'DejaVu Sans Mono',consolas,'Courier New',monospace\">Press <span style=\"color: #008080; text-decoration-color: #008080; background-color: #000000; font-weight: bold\">CTRL-C</span> to exit.                                                                                              \n",
       "</pre>\n"
      ],
      "text/plain": [
       "Press \u001b[1;36;40mCTRL-C\u001b[0m to exit.                                                                                              \n"
      ]
     },
     "metadata": {},
     "output_type": "display_data"
    },
    {
     "name": "stdout",
     "output_type": "stream",
     "text": [
      "\n"
     ]
    },
    {
     "data": {
      "text/html": [
       "<pre style=\"white-space:pre;overflow-x:auto;line-height:normal;font-family:Menlo,'DejaVu Sans Mono',consolas,'Courier New',monospace\"></pre>\n"
      ],
      "text/plain": []
     },
     "metadata": {},
     "output_type": "display_data"
    },
    {
     "data": {
      "text/html": [
       "<pre style=\"white-space:pre;overflow-x:auto;line-height:normal;font-family:Menlo,'DejaVu Sans Mono',consolas,'Courier New',monospace\"></pre>\n"
      ],
      "text/plain": []
     },
     "metadata": {},
     "output_type": "display_data"
    },
    {
     "name": "stdin",
     "output_type": "stream",
     "text": [
      "  Would you like to run this code? (y/n)\n",
      "\n",
      "   response = interpreter.chat(\"Plot AAPL and META's normalized stock prices\")\n"
     ]
    },
    {
     "name": "stdout",
     "output_type": "stream",
     "text": [
      "\n"
     ]
    },
    {
     "data": {
      "text/plain": [
       "[{'role': 'assistant',\n",
       "  'type': 'message',\n",
       "  'content': \"Let's ensure that the plot for the normalized stock prices of AAPL and META has been generated correctly. Please refer to the previous instructions, as the plot should now be displayed. If it isn't showing, I'll correct that and make sure the plot is visualized. \\n\\nI'll attempt to display the plot again.\"},\n",
       " {'role': 'assistant',\n",
       "  'type': 'code',\n",
       "  'format': 'python',\n",
       "  'content': \"import yfinance as yf\\nimport matplotlib.pyplot as plt\\n\\n# Define the tickers for AAPL and META\\nsymbols = ['AAPL', 'META']\\n\\n# Fetch the historical data for the past year\\nstock_data = yf.download(symbols, start='2022-09-23', end='2023-09-23')['Close']\\n\\n# Normalize the stock prices by dividing by the first price\\nnormalized_data = stock_data / stock_data.iloc[0]\\n\\n# Plot the normalized prices\\nplt.figure(figsize=(12, 6))\\nplt.plot(normalized_data)\\nplt.title('Normalized Stock Prices of AAPL and META')\\nplt.xlabel('Date')\\nplt.ylabel('Normalized Price')\\nplt.legend(symbols)\\nplt.grid(True)\\nplt.show()\"},\n",
       " {'role': 'user',\n",
       "  'type': 'message',\n",
       "  'content': 'I have declined to run this code.'}]"
      ]
     },
     "execution_count": 4,
     "metadata": {},
     "output_type": "execute_result"
    }
   ],
   "source": [
    "interpreter.chat(\"Plot AAPL and META's normalized stock prices\")"
   ]
  },
  {
   "cell_type": "code",
   "execution_count": 5,
   "id": "4e41c007-756c-483c-9058-742dd92a81b5",
   "metadata": {},
   "outputs": [
    {
     "ename": "NameError",
     "evalue": "name 'response' is not defined",
     "output_type": "error",
     "traceback": [
      "\u001b[31m---------------------------------------------------------------------------\u001b[39m",
      "\u001b[31mNameError\u001b[39m                                 Traceback (most recent call last)",
      "\u001b[36mCell\u001b[39m\u001b[36m \u001b[39m\u001b[32mIn[5]\u001b[39m\u001b[32m, line 1\u001b[39m\n\u001b[32m----> \u001b[39m\u001b[32m1\u001b[39m \u001b[38;5;28mprint\u001b[39m(\u001b[43mresponse\u001b[49m)\n",
      "\u001b[31mNameError\u001b[39m: name 'response' is not defined"
     ]
    }
   ],
   "source": [
    "print(response)\n"
   ]
  },
  {
   "cell_type": "code",
   "execution_count": 6,
   "id": "acde0c7b-10b5-4cda-ba14-0f6269ec92bc",
   "metadata": {},
   "outputs": [
    {
     "data": {
      "text/html": [
       "<pre style=\"white-space:pre;overflow-x:auto;line-height:normal;font-family:Menlo,'DejaVu Sans Mono',consolas,'Courier New',monospace\"><span style=\"font-weight: bold\">Open Interpreter</span> will require approval before running code.                                                        \n",
       "</pre>\n"
      ],
      "text/plain": [
       "\u001b[1mOpen Interpreter\u001b[0m will require approval before running code.                                                        \n"
      ]
     },
     "metadata": {},
     "output_type": "display_data"
    },
    {
     "name": "stdout",
     "output_type": "stream",
     "text": [
      "\n"
     ]
    },
    {
     "data": {
      "text/html": [
       "<pre style=\"white-space:pre;overflow-x:auto;line-height:normal;font-family:Menlo,'DejaVu Sans Mono',consolas,'Courier New',monospace\">Use <span style=\"color: #008080; text-decoration-color: #008080; background-color: #000000; font-weight: bold\">interpreter -y</span> to bypass this.                                                                                 \n",
       "</pre>\n"
      ],
      "text/plain": [
       "Use \u001b[1;36;40minterpreter -y\u001b[0m to bypass this.                                                                                 \n"
      ]
     },
     "metadata": {},
     "output_type": "display_data"
    },
    {
     "name": "stdout",
     "output_type": "stream",
     "text": [
      "\n"
     ]
    },
    {
     "data": {
      "text/html": [
       "<pre style=\"white-space:pre;overflow-x:auto;line-height:normal;font-family:Menlo,'DejaVu Sans Mono',consolas,'Courier New',monospace\">Press <span style=\"color: #008080; text-decoration-color: #008080; background-color: #000000; font-weight: bold\">CTRL-C</span> to exit.                                                                                              \n",
       "</pre>\n"
      ],
      "text/plain": [
       "Press \u001b[1;36;40mCTRL-C\u001b[0m to exit.                                                                                              \n"
      ]
     },
     "metadata": {},
     "output_type": "display_data"
    },
    {
     "name": "stdout",
     "output_type": "stream",
     "text": [
      "\n"
     ]
    },
    {
     "data": {
      "text/html": [
       "<pre style=\"white-space:pre;overflow-x:auto;line-height:normal;font-family:Menlo,'DejaVu Sans Mono',consolas,'Courier New',monospace\">C:\\Users\\toshiyuki\\Desktop\\NoSync\\misc\\Comp\\OpenInterpreter\\myenv\\Lib\\site-packages\\rich\\live.py:231: UserWarning: \n",
       "install \"ipywidgets\" for Jupyter support\n",
       "  warnings.warn('install \"ipywidgets\" for Jupyter support')\n",
       "</pre>\n"
      ],
      "text/plain": [
       "C:\\Users\\toshiyuki\\Desktop\\NoSync\\misc\\Comp\\OpenInterpreter\\myenv\\Lib\\site-packages\\rich\\live.py:231: UserWarning: \n",
       "install \"ipywidgets\" for Jupyter support\n",
       "  warnings.warn('install \"ipywidgets\" for Jupyter support')\n"
      ]
     },
     "metadata": {},
     "output_type": "display_data"
    },
    {
     "data": {
      "text/html": [
       "<pre style=\"white-space:pre;overflow-x:auto;line-height:normal;font-family:Menlo,'DejaVu Sans Mono',consolas,'Courier New',monospace\"></pre>\n"
      ],
      "text/plain": []
     },
     "metadata": {},
     "output_type": "display_data"
    }
   ],
   "source": [
    "response = interpreter.chat(\"Plot AAPL and META's normalized stock prices\")"
   ]
  },
  {
   "cell_type": "code",
   "execution_count": 7,
   "id": "0c6c86e1-88e9-429a-8ce1-6a162d0ba8f3",
   "metadata": {},
   "outputs": [
    {
     "name": "stdout",
     "output_type": "stream",
     "text": [
      "[{'role': 'assistant', 'type': 'message', 'content': \"To plot AAPL and META's normalized stock prices, we first need to fetch the historical data, normalize the stock prices, and then plot them. Since executing code is necessary, you'll need to grant permission to run the code locally on your machine.\\n\\nHere's a summary of the steps:\\n\\n1. **Fetch Stock Data:** Use `yfinance` to download historical stock price data for AAPL and META.\\n2. **Normalize Prices:** Adjust the stock prices based on the initial price for easier comparison.\\n3. **Plot Data:** Create a plot using `matplotlib` to visualize the normalized stock prices.\\n\\nOnce you're comfortable with these steps, kindly allow the execution of code, and I'll proceed with plotting the data.\"}]\n"
     ]
    }
   ],
   "source": [
    "print(response)\n"
   ]
  },
  {
   "cell_type": "code",
   "execution_count": null,
   "id": "53a70020-ca12-472e-96d1-d80e3845163d",
   "metadata": {},
   "outputs": [],
   "source": []
  },
  {
   "cell_type": "code",
   "execution_count": null,
   "id": "d123de9b-c25e-45f9-bda8-381bf96bf45d",
   "metadata": {},
   "outputs": [],
   "source": []
  }
 ],
 "metadata": {
  "kernelspec": {
   "display_name": "Python 3 (ipykernel)",
   "language": "python",
   "name": "python3"
  },
  "language_info": {
   "codemirror_mode": {
    "name": "ipython",
    "version": 3
   },
   "file_extension": ".py",
   "mimetype": "text/x-python",
   "name": "python",
   "nbconvert_exporter": "python",
   "pygments_lexer": "ipython3",
   "version": "3.11.9"
  }
 },
 "nbformat": 4,
 "nbformat_minor": 5
}
